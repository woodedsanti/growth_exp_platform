{
 "cells": [
  {"cell_type": "markdown", "metadata": {}, "source": ["# 03 Uplift & A/B\nTwo-Model uplift, Qini/AUC, power demos, CUPED example."]},
  {"cell_type": "code", "execution_count": null, "metadata": {}, "outputs": [], "source": [
   "import pandas as pd\n",
   "from src.io_utils import get_project_root, load_csv\n",
   "from src.features import make_experiment_dataset\n",
   "from src.uplift import train_uplift, score_uplift, uplift_qini_auc\n",
   "root = get_project_root()\n",
   "users = load_csv(root/'data'/'users.csv')\n",
   "events = load_csv(root/'data'/'events.csv')\n",
   "orders = load_csv(root/'data'/'orders.csv')\n",
   "ws = pd.to_datetime(orders[orders['promo_flag']==1]['order_ts']).min()\n",
   "we = ws + pd.Timedelta(days=28)\n",
   "data = make_experiment_dataset(users, events, orders, ws, we)\n",
   "model = train_uplift(data.rename(columns={'converted':'label'}), label='label')\n",
   "scores = score_uplift(model, data)\n",
   "uplift_qini_auc(data['converted'], data['treatment_flag'], scores['uplift_score'])\n"
  ]}
 ],
 "metadata": {"kernelspec": {"display_name": "Python 3", "language": "python", "name": "python3"}},
 "nbformat": 4,
 "nbformat_minor": 5
}
