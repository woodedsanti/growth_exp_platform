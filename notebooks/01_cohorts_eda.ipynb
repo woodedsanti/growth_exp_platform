{
 "cells": [
  {
   "cell_type": "markdown",
   "metadata": {},
   "source": [
    "# 01 Cohorts EDA\n",
    "Load data, build cohorts, and visualize retention."
   ]
  },
  {
   "cell_type": "code",
   "execution_count": null,
   "metadata": {},
   "outputs": [],
   "source": [
    "import pandas as pd\n",
    "from src.cohorts import make_cohorts, plot_retention_heatmap\n",
    "from src.io_utils import get_project_root, load_csv\n",
    "root = get_project_root()\n",
    "users = load_csv(root/'data'/'users.csv')\n",
    "events = load_csv(root/'data'/'events.csv')\n",
    "coh = make_cohorts(events, users)\n",
    "coh.head()"
   ]
  }
 ],
 "metadata": {
  "kernelspec": {"display_name": "Python 3", "language": "python", "name": "python3"},
  "language_info": {"name": "python"}
 },
 "nbformat": 4,
 "nbformat_minor": 5
}
