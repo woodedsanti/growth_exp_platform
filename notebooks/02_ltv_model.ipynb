{
 "cells": [
  {"cell_type": "markdown", "metadata": {}, "source": ["# 02 LTV Model\nFit BG/NBD + GG and evaluate on holdout."]},
  {"cell_type": "code", "execution_count": null, "metadata": {}, "outputs": [], "source": [
   "import pandas as pd\n",
   "from src.io_utils import get_project_root, load_csv\n",
   "from src.ltv import prepare_transactions, fit_bgnbd_gg, predict_ltv\n",
   "root = get_project_root()\n",
   "orders = load_csv(root/'data'/'orders.csv')\n",
   "cutoff = pd.to_datetime(orders['order_ts']).max() - pd.Timedelta(days=60)\n",
   "cal = orders[pd.to_datetime(orders['order_ts']) <= cutoff]\n",
   "hold = orders[pd.to_datetime(orders['order_ts']) > cutoff]\n",
   "tx = prepare_transactions(cal)\n",
   "models = fit_bgnbd_gg(tx)\n",
   "preds = predict_ltv(models, 365, tx.merge(cal[['user_id']].drop_duplicates(), on='user_id'))\n",
   "preds.head()\n"
  ]}
 ],
 "metadata": {"kernelspec": {"display_name": "Python 3", "language": "python", "name": "python3"}},
 "nbformat": 4,
 "nbformat_minor": 5
}
